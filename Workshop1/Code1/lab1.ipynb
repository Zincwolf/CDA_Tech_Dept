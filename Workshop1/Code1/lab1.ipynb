{
 "cells": [
  {
   "cell_type": "markdown",
   "metadata": {},
   "source": [
    "# **CDA 第一次lab**\n",
    "\n",
    "---\n",
    "\n",
    "## **实验简介**\n",
    "\n",
    "欢迎来到 **CDA** 的第一个lab！本次实验旨在帮助你熟悉 **Pandas**，并介绍 **Python** 的可视化库 **matplotlib**。"
   ]
  },
  {
   "cell_type": "markdown",
   "metadata": {},
   "source": [
    "## **第一部分：小贴士**\n",
    "---\n",
    "### **查看文档**\n",
    "\n",
    "要查看某个函数的文档，可以使用 **`help`** 函数。\n"
   ]
  },
  {
   "cell_type": "code",
   "execution_count": null,
   "metadata": {},
   "outputs": [],
   "source": [
    "help(print)"
   ]
  },
  {
   "cell_type": "markdown",
   "metadata": {},
   "source": [
    "你也可以在 Jupyter notebook 内直接查看函数文档。只需点击下方代码块并按下 Shift + Tab，就可以查看文档。"
   ]
  },
  {
   "cell_type": "code",
   "execution_count": null,
   "metadata": {},
   "outputs": [],
   "source": [
    "print('Welcome to CDA.')"
   ]
  },
  {
   "cell_type": "markdown",
   "metadata": {},
   "source": [
    "### **导入库**\n",
    "\n",
    "在 **CDA** 中，我们将使用一些常见的 **Python** 库来处理数据。按惯例，我们在 **notebook** 的最顶部导入所有库。以下是你在课程中可能会遇到的一些库及其常用的别名：\n",
    "\n"
   ]
  },
  {
   "cell_type": "code",
   "execution_count": 40,
   "metadata": {},
   "outputs": [],
   "source": [
    "import pandas as pd\n",
    "import datetime as dt\n",
    "from math import ceil\n",
    "import numpy as np\n",
    "from typing import Union\n"
   ]
  },
  {
   "cell_type": "markdown",
   "metadata": {},
   "source": [
    "### **Python**\n",
    "\n",
    "**Python** 是本系列的主要编程语言。我们推荐你们学习 **CS 61A**、**Data 8** 或等价的课程。由于时间有限，我们不会详细讲解 Python 的语法。如果以下练习让你感到有难度，请参阅以下资料：\n",
    "\n",
    "- [Python 教程](https://docs.python.org/zh-cn/3/tutorial/index.html)：Python 官方教程\n",
    "- [Composing Programs 第一章](http://composingprograms.com/pages/11-getting-started.html)：Python 编程入门\n"
   ]
  },
  {
   "cell_type": "markdown",
   "metadata": {},
   "source": [
    "\n",
    "### **pandas简介**\n",
    "\n",
    "**pandas** 是一个用于数据处理和分析的强大 Python 库。它提供了简单易用的数据结构和操作工具，特别适合处理结构化数据（如表格或时间序列）。pandas 的核心数据结构是 **Series** 和 **DataFrame**，这使得它在数据清理、变换和分析中非常有效。\n",
    "\n",
    "- **Series**: 一维带标签的数组，类似于 Excel 中的一列。\n",
    "- **DataFrame**: 二维表格数据，具有行和列，类似于 Excel 表格。\n",
    "\n",
    "pandas 还具备处理丢失数据、支持强大的分组和合并操作、时间序列功能等特性。它能够从多种数据源中读取数据，例如 CSV、Excel、SQL 等。\n",
    "\n",
    "- [pandas 官方文档](https://pandas.pydata.org/docs/)：pandas 文档与教程。\n"
   ]
  },
  {
   "cell_type": "code",
   "execution_count": null,
   "metadata": {},
   "outputs": [],
   "source": [
    "s = pd.Series([\"welcome\", \"to\", \"CDA\"]) #输出为一维的（不考虑左边的index标签），类似于excel的一列\n",
    "s"
   ]
  },
  {
   "cell_type": "code",
   "execution_count": null,
   "metadata": {},
   "outputs": [],
   "source": [
    "df_list = pd.DataFrame([[1, \"one\"], [2, \"two\"]], columns = [\"Number\", \"Description\"])#DataFrame是二维的，\n",
    "                                                                                     #有了DateFrame我们就可以做类似excel的操作了\n",
    "df_list"
   ]
  },
  {
   "cell_type": "markdown",
   "metadata": {},
   "source": [
    "在很多课程和比赛中，数据通常以 CSV（逗号分隔值）文件格式存储（大家可以点开左边的csv问价看看）。我们可以通过将数据路径作为参数传递给以下函数，将 CSV 文件导入到 **pandas** 的 **DataFrame** 中：\n"
   ]
  },
  {
   "cell_type": "markdown",
   "metadata": {},
   "source": [
    "### **pandas库中的读取数据函数**\n",
    "\n",
    "`pandas` 库是一个强大的数据分析工具，其中 `read_csv` 函数用于读取 CSV 文件并将其转换为 `DataFrame` 对象，其中 `read_excel` 函数用于读取 Excel 文件并将其转换为 `DataFrame` 对象。 有了 `DataFrame` 对象，你可以轻松地加载数据，进行分析和处理。\n",
    "\n",
    "### 使用示例\n",
    "\n",
    "以下是一个使用 `read_csv` 函数的示例，读取一个名为 `000300.SH_1min.csv` 的 CSV 文件并将其存储为 `DataFrame` 对象。请尝试修改文件名，并加载你自己的 CSV 文件。\n",
    "有关 `read_csv` 函数的更多信息，请访问 [pandas read_csv Documentation](https://pandas.pydata.org/pandas-docs/stable/reference/api/pandas.read_csv.html)。\n"
   ]
  },
  {
   "cell_type": "markdown",
   "metadata": {},
   "source": [
    "从 000300.SH_1min.csv 中加载分钟级股票数据。\n"
   ]
  },
  {
   "cell_type": "code",
   "execution_count": null,
   "metadata": {},
   "outputs": [],
   "source": [
    "minute_data = pd.read_csv('000300.SH_1min.csv', index_col=0)\n",
    "minute_data.head() "
   ]
  },
  {
   "cell_type": "markdown",
   "metadata": {},
   "source": [
    "## **第二部分：project2.验证沪深300在20240927和20240930的数值比** \n",
    "---\n"
   ]
  },
  {
   "cell_type": "markdown",
   "metadata": {},
   "source": [
    "### **问题1：数据准备**\n",
    " \n",
    "任务：用pd.read_excel读取左边的000300_weight_20240927.xlsx和000300_weight_20241003.xlsx的excel表格，文件书写格式可以参考上述的pd.read_csv文件，这是沪深300在2024年9月27日和10月3日的表现"
   ]
  },
  {
   "cell_type": "code",
   "execution_count": 22,
   "metadata": {},
   "outputs": [],
   "source": [
    "d0927 = 'TODO'\n",
    "d0930 = 'TODO'"
   ]
  },
  {
   "cell_type": "markdown",
   "metadata": {},
   "source": [
    "<details>\n",
    "<summary>点击展开查看答案</summary>\n",
    "\n",
    "d0927 = pd.read_excel('000300_weight_20240927.xlsx', index_col=0)\n",
    "\n",
    "d0930 = pd.read_excel('000300_weight_20241003.xlsx', index_col=0)\n",
    "\n",
    "</details>\n"
   ]
  },
  {
   "cell_type": "markdown",
   "metadata": {},
   "source": [
    "  有了数据后，数据比较整洁，所以我们就可以开始数据处理了！\n",
    "  "
   ]
  },
  {
   "cell_type": "markdown",
   "metadata": {},
   "source": [
    "### **问题2：数据处理**\n",
    "\n",
    "\n",
    "**任务1** 完成分级靠档函数 \n",
    "\n",
    "**任务2** 完成 pandas的矢量运算"
   ]
  },
  {
   "cell_type": "markdown",
   "metadata": {},
   "source": [
    "### 我们先介绍分级靠档的`rank` 函数\n",
    "\n",
    "#### 处理逻辑\n",
    "\n",
    "1. **保留两位小数**:\n",
    "   - `round` 函数将浮点数四舍五入到指定的小数位数。\n",
    "   - **官方文档**: [Python `round()`](https://docs.python.org/3/library/functions.html#round)\n",
    "\n",
    "\n",
    "2. **向上取整**:\n",
    "   - `np.ceil` 返回大于或等于给定数字的最小整数。\n",
    "   - **官方文档**: [NumPy `ceil`](https://numpy.org/doc/stable/reference/generated/numpy.ceil.html)\n",
    "\n",
    "#### 分档方式\n",
    "\n",
    "   - 根据左边的沪深300分级靠档表填充下述函数\n"
   ]
  },
  {
   "cell_type": "code",
   "execution_count": 31,
   "metadata": {},
   "outputs": [],
   "source": [
    "def rank(r: Union[float, np.float64]) -> np.float64:\n",
    "    '''\n",
    "    分级靠档\n",
    "    '''\n",
    "    if r <= 0.15:\n",
    "        return 'TODO'\n",
    "    if r >= 0.8:\n",
    "        return 'TODO'\n",
    "    return 'TODO'"
   ]
  },
  {
   "cell_type": "markdown",
   "metadata": {},
   "source": [
    "<details>\n",
    "<summary>点击展开查看答案</summary>\n",
    "def rank(r: Union[float, np.float64]) -> np.float64:\n",
    "\n",
    "    if r <= 0.15:\n",
    "\n",
    "        return round(r, 2)  # 保留两位小数\n",
    "\n",
    "    if r >= 0.8:\n",
    "\n",
    "        return 1  # 最高档次\n",
    "        \n",
    "    return np.ceil(r * 10) / 10  # 其他情况，向上取整到最近的0.1\n",
    "\n",
    "### 解释\n",
    "\n",
    "- **`def rank(r: Union[float, np.float64])`**：\n",
    "  - `def` 是定义函数的关键字。\n",
    "  - `rank` 是函数的名称。\n",
    "  - `r` 是函数的参数。\n",
    "  - `: Union[float, np.float64]` 指定参数 `r` 的类型可以是 Python 的 `float` 或 `numpy` 的 `np.float64` 类型。\n",
    "\n",
    "- **`-> np.float64`**：\n",
    "  - 这是返回值的类型注释，表示该函数的返回值将是 `numpy` 的 `np.float64` 类型。\n",
    "</details>\n"
   ]
  },
  {
   "cell_type": "markdown",
   "metadata": {},
   "source": [
    "接下来我们补充一下整列运算，这里介绍一下如何计算指数：\n",
    "\n",
    "-- 先计算自由流通比例：自由流通比例= 样本总股本/自由流通量\n",
    "\n",
    "-- 再计算分级靠档:根据自由流通比例，按照分级靠档表设定加权比例（上述函数已经做好分类了）\n",
    "\n",
    "-- 随后计算调整的股本数：调整股本数=样本总股本×加权比例\n",
    "\n",
    "-- 最后就得到调整的市值数：调整市值=∑(证券价格×调整股本数) \n",
    "\n",
    "-- 但是此时我们的市值还是一列，所以我们把它们相加\n",
    "\n",
    "-- 参照指数的运算公式：报告期指数= 调整市值×1000/除数，我们只需要用调整后的市值相除就能得到指数的比值了！\n",
    "​\n",
    "\n",
    "\n",
    "任务：请按照第三行的方式填充第一行和第四行"
   ]
  },
  {
   "cell_type": "code",
   "execution_count": null,
   "metadata": {},
   "outputs": [],
   "source": [
    "def process(df: pd.DataFrame) -> pd.DataFrame:\n",
    "    #先计算自由流通比例\n",
    "    df['free_ratio'] = 'TODO' #'自由流通股本(亿)' ÷ '总股本(亿)' \n",
    "    #根据自由流通比例分级靠档得到权重\n",
    "    df['w_ratio'] = df['free_ratio'].apply(rank)\n",
    "    #根据权重，我们对股本和市值调整\n",
    "    df['adj_stk_cap'] = 'TODO' #'总股本(亿)'× 'w_ratio' \n",
    "    df['adj_mkt_cap'] = df['adj_stk_cap'] * df['收盘价(原始币种)']\n",
    "    return df\n",
    "d0927 = process(d0927)\n",
    "d0930 = process(d0930)\n",
    "#这样我们就得到了2024年9月27日和2024年10月3日的调整后市值总和\n",
    "idx0927 = d0927['adj_mkt_cap'].sum() \n",
    "idx0930 = d0930['adj_mkt_cap'].sum()\n",
    "\n",
    "print(idx0927/idx0930) #比较这两天的表现"
   ]
  },
  {
   "cell_type": "markdown",
   "metadata": {},
   "source": [
    "<details>\n",
    "<summary>点击展开查看答案</summary>\n",
    "df['自由流通股本(亿)'] / df['总股本(亿)']\n",
    "\n",
    "df['adj_stk_cap'] * df['收盘价(原始币种)']\n",
    "</details>\n"
   ]
  },
  {
   "cell_type": "markdown",
   "metadata": {},
   "source": [
    "## **第三部分：project3.寻找沪深300收盘价史上最大回撤**\n",
    "---\n",
    "### **问题1：数据准备**\n",
    "\n",
    "该excel表格存储了沪深300的收盘价"
   ]
  },
  {
   "cell_type": "code",
   "execution_count": 34,
   "metadata": {},
   "outputs": [],
   "source": [
    "price = pd.read_excel('000300.SH.xlsx') "
   ]
  },
  {
   "cell_type": "markdown",
   "metadata": {},
   "source": [
    "### **问题2：数据清洗**\n",
    " \n",
    "任务：删除price收盘价里面的缺失值"
   ]
  },
  {
   "cell_type": "markdown",
   "metadata": {},
   "source": [
    "#### 2.1 查看缺失值数量\n",
    "\n",
    "在实际情境下，如果缺失值少，我们一般选择填充；缺失值多，我们可以考虑删除。\n",
    "\n",
    "本次lab为了帮助大家快速入门，选择了删除缺失值这一种最简单的方法"
   ]
  },
  {
   "cell_type": "code",
   "execution_count": null,
   "metadata": {},
   "outputs": [],
   "source": [
    "close=price['开盘价'].copy()#先提取price的开盘价\n",
    "close.isnull().sum()"
   ]
  },
  {
   "cell_type": "markdown",
   "metadata": {},
   "source": [
    "可见，close缺失了2个数据类型为int64的值\n",
    "\n",
    "#### 2.2处理缺失值\n",
    "\n",
    "这里的处理方法为删除，采用了dropna函数\n",
    "\n",
    "##### inplace=True 的含义\n",
    "\n",
    "在 `pandas` 中，`inplace=True` 是一个参数，用来控制操作是否直接在原数据框上执行。\n",
    "\n",
    "- **inplace=True**：表示操作会在原数据框上进行修改，且不会返回修改后的新对象。\n",
    "- **inplace=False**（默认）：表示操作不会改变原数据框，而是返回一个修改后的新对象。"
   ]
  },
  {
   "cell_type": "code",
   "execution_count": null,
   "metadata": {},
   "outputs": [],
   "source": [
    "close.dropna(inplace=True)"
   ]
  },
  {
   "cell_type": "markdown",
   "metadata": {},
   "source": [
    "任务：用inplace=False的默认情况改写"
   ]
  },
  {
   "cell_type": "code",
   "execution_count": null,
   "metadata": {},
   "outputs": [],
   "source": [
    "close='TODO'"
   ]
  },
  {
   "cell_type": "markdown",
   "metadata": {},
   "source": [
    "<details>\n",
    "<summary>点击展开查看答案</summary>\n",
    "close=close.dropna(inplace=False)\n",
    "</details>"
   ]
  },
  {
   "cell_type": "markdown",
   "metadata": {},
   "source": [
    "- `close.shape` 返回一个元组，包含数据框的行数和列数。\n",
    "- `close.shape[0]` 提取的是行数，即有效收盘价的数量，赋值给变量 `n`。"
   ]
  },
  {
   "cell_type": "code",
   "execution_count": null,
   "metadata": {},
   "outputs": [],
   "source": [
    "close.shape\n",
    "n=close.shape[0]\n",
    "n"
   ]
  },
  {
   "cell_type": "markdown",
   "metadata": {},
   "source": [
    "思考：n此时代表什么呢？"
   ]
  },
  {
   "cell_type": "markdown",
   "metadata": {},
   "source": [
    "<details>\n",
    "<summary>点击展开查看答案</summary>\n",
    "收盘价的条数\n",
    "\n",
    "</details>\n"
   ]
  },
  {
   "cell_type": "markdown",
   "metadata": {},
   "source": [
    "在下面代码中，`drawdown = np.zeros(n)` 用于创建一个长度为 `n` 的数组，初始值全为零。这样可以为后续计算回撤（drawdown）准备一个存储空间。\n",
    "\n",
    "### 解释：\n",
    "- `np.zeros(n)` 创建一个包含 `n` 个元素的数组，所有元素均为 `0.0`。\n",
    "- 这个数组可以用来存储每一天的回撤值，方便后续的数据分析和可视化\n"
   ]
  },
  {
   "cell_type": "code",
   "execution_count": null,
   "metadata": {},
   "outputs": [],
   "source": [
    "drawdown = np.zeros(n)\n",
    "drawdown"
   ]
  },
  {
   "cell_type": "markdown",
   "metadata": {},
   "source": [
    "### **问题3：数据处理**\n",
    "\n",
    "--我们有了清洗后的开盘价，接下来就需要找到开盘价的最大值了，我们有哪些方法呢？\n",
    " \n",
    "首先，可以尝试一下直接遍历"
   ]
  },
  {
   "cell_type": "code",
   "execution_count": 35,
   "metadata": {},
   "outputs": [],
   "source": [
    "daymax, daymin = 0, 0\n",
    "\n",
    "for i in range(n):\n",
    "    high = 0  # 重置每一天的最大值\n",
    "    for j in range(i + 1):  # 从第 0 天到第 i 天寻找最大值\n",
    "        high = max(high, close[j])\n",
    "    drawdown[i] = (high - close[i]) / high"
   ]
  },
  {
   "cell_type": "markdown",
   "metadata": {},
   "source": [
    "上述的算法复杂度很高，由于有两个循环，所以跑了很长时间（左下角的时间）\n",
    "\n",
    "挑战任务：利用动态规划的方式完成下面的算法。\n",
    "\n",
    "注意：本题需要用max函数处理close和high\n",
    "\n",
    "对于尚未形成算法思想的同学，可以先研究这一过程。动态规划的思想展现了算法的优雅与美感。如果本次任务未能完成，也请不要气馁。本题的目的在于让同学们了解这种方法，并鼓励大家前往 LeetCode 网站进行练习。后续我们还会介绍一种不使用循环的机制，这种机制在处理大数据表现上完全可以超越本算法。"
   ]
  },
  {
   "cell_type": "code",
   "execution_count": null,
   "metadata": {},
   "outputs": [],
   "source": [
    "daymax, daymin = 0, 0\n",
    "high = close[0]\n",
    "for i in range(1, n):\n",
    "    high = 'TODO'\n",
    "    drawdown[i] = (high - close[i]) / high"
   ]
  },
  {
   "cell_type": "markdown",
   "metadata": {},
   "source": [
    "<details>\n",
    "<summary>点击展开查看答案</summary>\n",
    "\n",
    "high = max(high, close[i])\n",
    "\n",
    "在上述代码中，`daymax` 和 `daymin` 被初始化为 0。代码的作用是计算每一天的回撤（drawdown），具体过程如下：\n",
    "\n",
    "### 代码解析：\n",
    "\n",
    "- `for i in range(1, n)`：循环从第 1 天到第 n 天。\n",
    "\n",
    "- `high = max(high, close[i])`：更新当前的最高收盘价 `high`，与当前收盘价 `close[i]` 进行比较。\n",
    "\n",
    "- `drawdown[i] = (high - close[i]) / high`：计算并存储第 i 天的回撤率，公式为当前最高价与当前收盘价的差除以当前最高价。\n",
    "\n",
    "### 注意：\n",
    "\n",
    "此时的`high`为此前收盘价的最高值，可以停下来自己模拟一下，这种算法名称是动态规划（dp算法）\n",
    "\n",
    "<details>"
   ]
  },
  {
   "cell_type": "markdown",
   "metadata": {},
   "source": [
    "再次查看一下这个算法的用时，和上述的做一下比较，思考一下为什么\n",
    "\n",
    "所以算法的使用往往会极大的缩短运行的时间，想要针对问题选择最好的算法，可以考虑刷一下力扣"
   ]
  },
  {
   "cell_type": "markdown",
   "metadata": {},
   "source": [
    "\n",
    "### 拓展：NumPy 的效率优势\n",
    "\n",
    "在数据处理和数值计算中，使用 `for` 循环往往会导致时间复杂度的增加，特别是在处理大型数据集时。NumPy 库提供了并行运算和广播机制，能够显著提高计算效率。\n",
    "\n",
    "#### 1. 并行运算\n",
    "\n",
    "NumPy 使用底层的 C 和 Fortran 代码，能够充分利用现代计算机的多核处理能力。通过在数组操作中进行并行计算，NumPy 可以减少计算时间。\n",
    "\n",
    "#### 2. 广播机制\n",
    "\n",
    "广播是一种在不同形状的数组之间进行操作的方式。NumPy 可以自动扩展较小的数组，以便它们能够与较大的数组进行元素级运算，而无需显式的循环。这不仅简化了代码，还能显著提高性能。"
   ]
  },
  {
   "cell_type": "code",
   "execution_count": null,
   "metadata": {},
   "outputs": [],
   "source": [
    "high = np.maximum.accumulate(close)  # 计算累计最大值 \n",
    "drawdown = (high - close) / high   ##无需循环"
   ]
  },
  {
   "cell_type": "code",
   "execution_count": null,
   "metadata": {},
   "outputs": [],
   "source": [
    "# 计算最大回撤和对应日期\n",
    "max_drawdown = max(drawdown)  # 最大回撤\n",
    "daymin = price['日期'][np.argmax(drawdown)]  # 最大回撤发生的日期\n",
    "daymax = price['日期'][np.argmax(close[:np.argmax(drawdown)])]  # 最大回撤前的最高点日期\n",
    "\n",
    "# 输出结果\n",
    "print(max_drawdown, daymin, daymax)"
   ]
  },
  {
   "cell_type": "markdown",
   "metadata": {},
   "source": [
    "## 第四部分：总结\n",
    "---\n",
    "这个实验将帮助您和其他人更好地理解使用Python进行金融数据分析的工具和概念。问题的顺序按照一般的数据分析过程编排，由于笔者能力有限以及时间和空间的限制，只能尽可能设计lab呈现到您眼中，欢迎您反馈建议到邮箱：wangyv123@sjtu.edu.cn或者直接去经管2408真实我（bushi），祝您使用愉快~~~\n",
    "\n",
    "\n",
    "借鉴到的工作：\n",
    "\n",
    "--*UCB data100的note，lab设计*\n",
    "\n",
    "--*Stanford CS231n的lab设计*\n",
    "\n",
    "--*Kaggle处理数据的一些课程*\n",
    "\n",
    "--*中证指数关于沪深300的介绍*\n",
    "\n",
    "可能要改进的方向：\n",
    "\n",
    "--*采用data100的otter设计lab*\n",
    "\n",
    "--*进一步强化lab的连贯性，把真实的流程完全呈现出来*\n",
    "\n",
    "--*引入git等现代化工具，让工作流程完全记录下来并且可以随时返回*\n",
    "\n",
    "\n",
    "\n",
    "非常感谢吴泽楠同学和CDA协会的帮助，没有他们我可能无法完成整个lab的设计"
   ]
  }
 ],
 "metadata": {
  "kernelspec": {
   "display_name": "CDA1",
   "language": "python",
   "name": "python3"
  },
  "language_info": {
   "codemirror_mode": {
    "name": "ipython",
    "version": 3
   },
   "file_extension": ".py",
   "mimetype": "text/x-python",
   "name": "python",
   "nbconvert_exporter": "python",
   "pygments_lexer": "ipython3",
   "version": "3.10.15"
  }
 },
 "nbformat": 4,
 "nbformat_minor": 2
}
